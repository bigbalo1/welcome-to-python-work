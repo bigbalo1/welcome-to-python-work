{
  "nbformat": 4,
  "nbformat_minor": 0,
  "metadata": {
    "colab": {
      "provenance": [],
      "authorship_tag": "ABX9TyOveek6tG0Q9At5RZyrF4Aj",
      "include_colab_link": true
    },
    "kernelspec": {
      "name": "python3",
      "display_name": "Python 3"
    },
    "language_info": {
      "name": "python"
    }
  },
  "cells": [
    {
      "cell_type": "markdown",
      "metadata": {
        "id": "view-in-github",
        "colab_type": "text"
      },
      "source": [
        "<a href=\"https://colab.research.google.com/github/bigbalo1/welcome-to-python-work/blob/main/PythonDay2.ipynb\" target=\"_parent\"><img src=\"https://colab.research.google.com/assets/colab-badge.svg\" alt=\"Open In Colab\"/></a>"
      ]
    },
    {
      "cell_type": "code",
      "execution_count": 2,
      "metadata": {
        "colab": {
          "base_uri": "https://localhost:8080/"
        },
        "id": "fM-N0hxOoGE5",
        "outputId": "4aa6e154-0521-4863-f1b8-936cd9b7c626"
      },
      "outputs": [
        {
          "output_type": "execute_result",
          "data": {
            "text/plain": [
              "str"
            ]
          },
          "metadata": {},
          "execution_count": 2
        }
      ],
      "source": [
        "x= \"what is my name\"\n",
        "type(x)\n"
      ]
    },
    {
      "cell_type": "code",
      "source": [
        "x = 10\n",
        "type(x)"
      ],
      "metadata": {
        "colab": {
          "base_uri": "https://localhost:8080/"
        },
        "id": "hnPvn2ucqtku",
        "outputId": "4bb072f5-284d-40e0-c451-5f7bacd256d1"
      },
      "execution_count": 3,
      "outputs": [
        {
          "output_type": "execute_result",
          "data": {
            "text/plain": [
              "int"
            ]
          },
          "metadata": {},
          "execution_count": 3
        }
      ]
    },
    {
      "cell_type": "markdown",
      "source": [
        "python basic operation"
      ],
      "metadata": {
        "id": "TyFQ7V02sXsT"
      }
    },
    {
      "cell_type": "code",
      "source": [
        "x = 2\n",
        "y=6"
      ],
      "metadata": {
        "id": "LWHZS1wKslF-"
      },
      "execution_count": 5,
      "outputs": []
    },
    {
      "cell_type": "markdown",
      "source": [
        "additon"
      ],
      "metadata": {
        "id": "g_5dBM5JsvS0"
      }
    },
    {
      "cell_type": "code",
      "source": [
        "x+y\n",
        "print(\"the result is\", x+y) # the result is 8"
      ],
      "metadata": {
        "colab": {
          "base_uri": "https://localhost:8080/"
        },
        "id": "6gW457b5sxYX",
        "outputId": "b94e5281-8626-43e9-8063-562a5f7b55f5"
      },
      "execution_count": 7,
      "outputs": [
        {
          "output_type": "stream",
          "name": "stdout",
          "text": [
            "the result is 8\n"
          ]
        }
      ]
    },
    {
      "cell_type": "markdown",
      "source": [
        "Subtraction"
      ],
      "metadata": {
        "id": "4PShGJq8tdTE"
      }
    },
    {
      "cell_type": "code",
      "source": [
        "x-y\n",
        "print(\"the result is\", x-y) #the result is -4"
      ],
      "metadata": {
        "colab": {
          "base_uri": "https://localhost:8080/"
        },
        "id": "Us3tIH2dtgkD",
        "outputId": "8c7b5423-5dcf-40f8-87b9-fd6a43bb476b"
      },
      "execution_count": 8,
      "outputs": [
        {
          "output_type": "stream",
          "name": "stdout",
          "text": [
            "the result is -4\n"
          ]
        }
      ]
    },
    {
      "cell_type": "markdown",
      "source": [
        "Multiplication"
      ],
      "metadata": {
        "id": "wtGa9xrTvlBJ"
      }
    },
    {
      "cell_type": "code",
      "source": [
        "x*y\n",
        "print(\"the result is\", x*y) # the result is 12"
      ],
      "metadata": {
        "colab": {
          "base_uri": "https://localhost:8080/"
        },
        "id": "QyRslv3Tvsce",
        "outputId": "e5b13a72-ca6a-499b-9ba4-1360c84ed36c"
      },
      "execution_count": 9,
      "outputs": [
        {
          "output_type": "stream",
          "name": "stdout",
          "text": [
            "the result is 12\n"
          ]
        }
      ]
    },
    {
      "cell_type": "markdown",
      "source": [
        "Division"
      ],
      "metadata": {
        "id": "WYjfGBlRv3Yn"
      }
    },
    {
      "cell_type": "code",
      "source": [
        "y/x\n",
        "print(\"the result is\", y/x) # the result is 3"
      ],
      "metadata": {
        "colab": {
          "base_uri": "https://localhost:8080/"
        },
        "id": "QF_Dn-5sv7EZ",
        "outputId": "6b817acd-743d-44e1-a7fd-111dd4766465"
      },
      "execution_count": 10,
      "outputs": [
        {
          "output_type": "stream",
          "name": "stdout",
          "text": [
            "the result is 3.0\n"
          ]
        }
      ]
    },
    {
      "cell_type": "markdown",
      "source": [
        "Power"
      ],
      "metadata": {
        "id": "EyYJxEGzwKrx"
      }
    },
    {
      "cell_type": "code",
      "source": [
        "y**x\n",
        "print(\"the result is\", y**x) # the result is 36\n"
      ],
      "metadata": {
        "colab": {
          "base_uri": "https://localhost:8080/"
        },
        "id": "ci4ekIDrwL4I",
        "outputId": "f6e2ff36-42cd-47b4-cb56-6d56aa5a621c"
      },
      "execution_count": 13,
      "outputs": [
        {
          "output_type": "stream",
          "name": "stdout",
          "text": [
            "the result is 36\n"
          ]
        }
      ]
    },
    {
      "cell_type": "markdown",
      "source": [
        "Modulo"
      ],
      "metadata": {
        "id": "CmblQ0vax1iK"
      }
    },
    {
      "cell_type": "code",
      "source": [
        "y%x\n",
        "print(\"the result is\", y%x) # the result is 0"
      ],
      "metadata": {
        "colab": {
          "base_uri": "https://localhost:8080/"
        },
        "id": "NQy750V9x3uk",
        "outputId": "667a8e57-97f9-4563-881c-cc007dab0647"
      },
      "execution_count": 14,
      "outputs": [
        {
          "output_type": "stream",
          "name": "stdout",
          "text": [
            "the result is 0\n"
          ]
        }
      ]
    },
    {
      "cell_type": "markdown",
      "source": [
        "Assesment"
      ],
      "metadata": {
        "id": "jaIH4mUOywPq"
      }
    },
    {
      "cell_type": "code",
      "source": [
        "x= 19\n",
        "y= 10\n",
        "print(x%y*3/(x-y))"
      ],
      "metadata": {
        "colab": {
          "base_uri": "https://localhost:8080/"
        },
        "id": "OqjFWmf3y11-",
        "outputId": "49013d88-3e1c-4271-c011-c67c084b69c6"
      },
      "execution_count": 15,
      "outputs": [
        {
          "output_type": "stream",
          "name": "stdout",
          "text": [
            "3.0\n"
          ]
        }
      ]
    },
    {
      "cell_type": "code",
      "source": [
        "ch = \"hello\""
      ],
      "metadata": {
        "id": "Dl0CHP2pCSl4"
      },
      "execution_count": 38,
      "outputs": []
    },
    {
      "cell_type": "code",
      "source": [
        "ch = ch + \" world\""
      ],
      "metadata": {
        "id": "uRhJPXvIQRVf"
      },
      "execution_count": 39,
      "outputs": []
    },
    {
      "cell_type": "code",
      "source": [
        "ch"
      ],
      "metadata": {
        "colab": {
          "base_uri": "https://localhost:8080/",
          "height": 35
        },
        "id": "uXKoXvKyQXwk",
        "outputId": "58b023e3-3653-4222-9400-e8648d81ce65"
      },
      "execution_count": 40,
      "outputs": [
        {
          "output_type": "execute_result",
          "data": {
            "text/plain": [
              "'hello world'"
            ],
            "application/vnd.google.colaboratory.intrinsic+json": {
              "type": "string"
            }
          },
          "metadata": {},
          "execution_count": 40
        }
      ]
    },
    {
      "cell_type": "code",
      "source": [
        "mystring=\"welcome to coding world\"\n",
        "print(mystring[len(mystring)-9])"
      ],
      "metadata": {
        "colab": {
          "base_uri": "https://localhost:8080/"
        },
        "id": "31PKV1wwR0lq",
        "outputId": "3ae20416-2cc4-4450-9c31-b40a7751ab79"
      },
      "execution_count": 48,
      "outputs": [
        {
          "output_type": "stream",
          "name": "stdout",
          "text": [
            "i\n"
          ]
        }
      ]
    },
    {
      "cell_type": "code",
      "source": [
        "(5 != 7) == (2 >1)"
      ],
      "metadata": {
        "colab": {
          "base_uri": "https://localhost:8080/"
        },
        "id": "IciN2RKbUPp-",
        "outputId": "5fb64bd1-3ed0-4886-cf54-31333be4b607"
      },
      "execution_count": 49,
      "outputs": [
        {
          "output_type": "execute_result",
          "data": {
            "text/plain": [
              "True"
            ]
          },
          "metadata": {},
          "execution_count": 49
        }
      ]
    },
    {
      "cell_type": "code",
      "source": [
        "1 != 5"
      ],
      "metadata": {
        "colab": {
          "base_uri": "https://localhost:8080/"
        },
        "id": "hehlonaJV9N4",
        "outputId": "9dba3f18-d8dc-4325-eb09-0d7ffbf784ff"
      },
      "execution_count": 50,
      "outputs": [
        {
          "output_type": "execute_result",
          "data": {
            "text/plain": [
              "True"
            ]
          },
          "metadata": {},
          "execution_count": 50
        }
      ]
    },
    {
      "cell_type": "code",
      "source": [
        "(1!=1)==(4>5)"
      ],
      "metadata": {
        "colab": {
          "base_uri": "https://localhost:8080/"
        },
        "id": "vcttM8glYzMh",
        "outputId": "6b6400d4-2507-4960-fcd7-975d101e78c5"
      },
      "execution_count": 51,
      "outputs": [
        {
          "output_type": "execute_result",
          "data": {
            "text/plain": [
              "True"
            ]
          },
          "metadata": {},
          "execution_count": 51
        }
      ]
    },
    {
      "cell_type": "markdown",
      "source": [
        "if condition"
      ],
      "metadata": {
        "id": "ZPvPMFvYaY-f"
      }
    },
    {
      "cell_type": "code",
      "source": [
        "age = 33\n",
        "age_min = 20\n",
        "if age > age_min :\n",
        "    print(\"the passanger has survived titanic accident\")\n",
        "print(age)"
      ],
      "metadata": {
        "colab": {
          "base_uri": "https://localhost:8080/"
        },
        "id": "O-qoR0TAabHd",
        "outputId": "4c79c4ad-c504-48fb-d885-d3893c385ee9"
      },
      "execution_count": 52,
      "outputs": [
        {
          "output_type": "stream",
          "name": "stdout",
          "text": [
            "the passanger has survived titanic accident\n",
            "33\n"
          ]
        }
      ]
    },
    {
      "cell_type": "code",
      "source": [
        "x=5\n",
        "if x<8 :\n",
        "    print(x)"
      ],
      "metadata": {
        "colab": {
          "base_uri": "https://localhost:8080/"
        },
        "id": "eCOOqmeQdux7",
        "outputId": "05a04182-4fb5-4084-c5b7-f4e35c6d1639"
      },
      "execution_count": 53,
      "outputs": [
        {
          "output_type": "stream",
          "name": "stdout",
          "text": [
            "5\n"
          ]
        }
      ]
    }
  ]
}